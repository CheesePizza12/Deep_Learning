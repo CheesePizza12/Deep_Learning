{
 "cells": [
  {
   "cell_type": "code",
   "execution_count": 52,
   "metadata": {},
   "outputs": [],
   "source": [
    "import numpy as np\n",
    "import pandas as pd\n",
    "import tensorflow as tf\n",
    "import random"
   ]
  },
  {
   "cell_type": "code",
   "execution_count": 53,
   "metadata": {},
   "outputs": [],
   "source": [
    "x_data = [[1,2],[3,4],[5,9],[6,10]]\n",
    "y_data = [[0],[0],[1],[1]]\n",
    "\n",
    "X = tf.placeholder(tf.float32,shape=[None,2])\n",
    "Y = tf.placeholder(tf.float32,shape=[None,1])\n",
    "\n",
    "W = tf.Variable(tf.random_normal([2,1]))\n",
    "B = tf.Variable(tf.random_normal([1]))\n",
    "########\n",
    "hypothesis = tf.sigmoid(tf.matmul(X,W)+B)\n",
    "cost = -tf.reduce_mean(tf.reduce_sum(Y*tf.log(hypothesis) + (1-Y)*tf.log(1-hypothesis)))\n",
    "\n",
    "optimizer = tf.train.GradientDescentOptimizer(learning_rate=0.00001)\n",
    "train = optimizer.minimize(cost)\n",
    "\n",
    "# sigmoid결과를 0.5기준으로 나눠주기\n",
    "predicted = tf.cast(hypothesis>0.5, dtype=tf.float32)\n",
    "accuracy = tf.reduce_mean(tf.cast(tf.equal(predicted,Y), dtype=tf.float32))\n",
    "#unpredicted = tf.cast(hypothesis<0.5, dtype=tf.float32)\n",
    "\n"
   ]
  },
  {
   "cell_type": "code",
   "execution_count": 54,
   "metadata": {
    "scrolled": true
   },
   "outputs": [
    {
     "name": "stdout",
     "output_type": "stream",
     "text": [
      "step 0 cost 22.439257\n",
      "step 100 cost 21.972004\n",
      "step 200 cost 21.505703\n",
      "step 300 cost 21.040398\n",
      "step 400 cost 20.576149\n",
      "step 500 cost 20.113008\n",
      "step 600 cost 19.651047\n",
      "step 700 cost 19.190323\n",
      "step 800 cost 18.730911\n",
      "step 900 cost 18.27288\n",
      "step 1000 cost 17.816315\n",
      "step 1100 cost 17.361303\n",
      "step 1200 cost 16.907934\n",
      "step 1300 cost 16.456314\n",
      "step 1400 cost 16.006557\n",
      "step 1500 cost 15.558769\n",
      "step 1600 cost 15.11309\n",
      "step 1700 cost 14.669653\n",
      "step 1800 cost 14.228619\n",
      "step 1900 cost 13.790152\n",
      "0.5\n"
     ]
    }
   ],
   "source": [
    "sess = tf.Session()\n",
    "sess.run(tf.global_variables_initializer())\n",
    "for step in range(2000):\n",
    "    cost_v, _ = sess.run([cost, train], feed_dict={X:x_data,Y:y_data})\n",
    "    if step %100 ==0 :\n",
    "        print('step', step, 'cost',cost_v)\n",
    "print(sess.run(accuracy, feed_dict={X:x_data,Y:y_data}))"
   ]
  },
  {
   "cell_type": "code",
   "execution_count": 55,
   "metadata": {},
   "outputs": [
    {
     "name": "stdout",
     "output_type": "stream",
     "text": [
      "[[0.]\n",
      " [0.]]\n"
     ]
    }
   ],
   "source": [
    "print(sess.run(predicted, feed_dict={X:[[3,2],[1,5]]}))"
   ]
  },
  {
   "cell_type": "markdown",
   "metadata": {},
   "source": [
    "## data 받아서 해보기"
   ]
  },
  {
   "cell_type": "code",
   "execution_count": 107,
   "metadata": {},
   "outputs": [
    {
     "data": {
      "text/plain": [
       "array([[-0.294118 ,  0.487437 ,  0.180328 , ..., -0.53117  , -0.0333333,\n",
       "         0.       ],\n",
       "       [-0.882353 , -0.145729 ,  0.0819672, ..., -0.766866 , -0.666667 ,\n",
       "         1.       ],\n",
       "       [-0.0588235,  0.839196 ,  0.0491803, ..., -0.492741 , -0.633333 ,\n",
       "         0.       ],\n",
       "       ...,\n",
       "       [-0.411765 ,  0.21608  ,  0.180328 , ..., -0.857387 , -0.7      ,\n",
       "         1.       ],\n",
       "       [-0.882353 ,  0.266332 , -0.0163934, ..., -0.768574 , -0.133333 ,\n",
       "         0.       ],\n",
       "       [-0.882353 , -0.0653266,  0.147541 , ..., -0.797609 , -0.933333 ,\n",
       "         1.       ]], dtype=float32)"
      ]
     },
     "execution_count": 107,
     "metadata": {},
     "output_type": "execute_result"
    }
   ],
   "source": [
    "xy= np.loadtxt('diabetes.csv', delimiter=',', dtype =np.float32)\n",
    "xy"
   ]
  },
  {
   "cell_type": "code",
   "execution_count": 108,
   "metadata": {},
   "outputs": [
    {
     "data": {
      "text/plain": [
       "(759, 8)"
      ]
     },
     "execution_count": 108,
     "metadata": {},
     "output_type": "execute_result"
    }
   ],
   "source": [
    "x_data = xy[:,:-1]\n",
    "x_data.shape"
   ]
  },
  {
   "cell_type": "code",
   "execution_count": 109,
   "metadata": {},
   "outputs": [
    {
     "data": {
      "text/plain": [
       "(759, 1)"
      ]
     },
     "execution_count": 109,
     "metadata": {},
     "output_type": "execute_result"
    }
   ],
   "source": [
    "y_data = xy[:,[-1]]\n",
    "y_data.shape"
   ]
  },
  {
   "cell_type": "code",
   "execution_count": 110,
   "metadata": {},
   "outputs": [],
   "source": [
    "x_train = x_data[:500,:8]\n",
    "x_test=x_data[500:,:8]\n",
    "y_train=y_data[:500,[-1]]\n",
    "y_test=y_data[500:,[-1]]"
   ]
  },
  {
   "cell_type": "code",
   "execution_count": 111,
   "metadata": {},
   "outputs": [],
   "source": [
    "X = tf.placeholder(tf.float32,shape=[None,8])\n",
    "Y = tf.placeholder(tf.float32,shape=[None,1])\n",
    "\n",
    "W = tf.Variable(tf.random_normal([8,1]))\n",
    "B = tf.Variable(tf.random_normal([1]))\n",
    "########\n",
    "hypothesis = tf.sigmoid(tf.matmul(X,W)+B)\n",
    "cost = -tf.reduce_mean(tf.reduce_sum(Y*tf.log(hypothesis) + (1-Y)*tf.log(1-hypothesis)))\n",
    "\n",
    "optimizer = tf.train.GradientDescentOptimizer(learning_rate=0.00001)\n",
    "train = optimizer.minimize(cost)\n",
    "\n",
    "# sigmoid결과를 0.5기준으로 나눠주기\n",
    "predicted = tf.cast(hypothesis>0.5, dtype=tf.float32)\n",
    "accuracy = tf.reduce_mean(tf.cast(tf.equal(predicted,Y), dtype=tf.float32))\n",
    "#unpredicted = tf.cast(hypothesis<0.5, dtype=tf.float32)\n"
   ]
  },
  {
   "cell_type": "code",
   "execution_count": 115,
   "metadata": {},
   "outputs": [
    {
     "name": "stdout",
     "output_type": "stream",
     "text": [
      "step 0 cost 398.29517\n",
      "step 100 cost 359.68362\n",
      "step 200 cost 334.25552\n",
      "step 300 cost 317.49786\n",
      "step 400 cost 306.36346\n",
      "step 500 cost 298.8633\n",
      "step 600 cost 293.7168\n",
      "step 700 cost 290.10226\n",
      "step 800 cost 287.49188\n",
      "step 900 cost 285.5442\n",
      "step 1000 cost 284.0378\n",
      "step 1100 cost 282.82794\n",
      "step 1200 cost 281.81934\n",
      "step 1300 cost 280.94916\n",
      "step 1400 cost 280.1756\n",
      "step 1500 cost 279.47076\n",
      "step 1600 cost 278.8161\n",
      "step 1700 cost 278.19885\n",
      "step 1800 cost 277.6107\n",
      "step 1900 cost 277.0455\n",
      "0.77220076\n"
     ]
    }
   ],
   "source": [
    "sess = tf.Session()\n",
    "sess.run(tf.global_variables_initializer())\n",
    "for step in range(2000):\n",
    "    cost_v, _ = sess.run([cost, train], feed_dict={X:x_train,Y:y_train})\n",
    "    if step %100 ==0 :\n",
    "        print('step', step, 'cost',cost_v)\n",
    "print(sess.run(accuracy, feed_dict={X:x_test,Y:y_test}))"
   ]
  },
  {
   "cell_type": "code",
   "execution_count": 113,
   "metadata": {},
   "outputs": [
    {
     "name": "stdout",
     "output_type": "stream",
     "text": [
      "0.72200775\n"
     ]
    }
   ],
   "source": [
    "print(sess.run(accuracy, feed_dict={X:x_test,Y:y_test}))"
   ]
  },
  {
   "cell_type": "code",
   "execution_count": null,
   "metadata": {},
   "outputs": [],
   "source": []
  },
  {
   "cell_type": "code",
   "execution_count": null,
   "metadata": {},
   "outputs": [],
   "source": []
  },
  {
   "cell_type": "code",
   "execution_count": null,
   "metadata": {},
   "outputs": [],
   "source": []
  },
  {
   "cell_type": "code",
   "execution_count": null,
   "metadata": {},
   "outputs": [],
   "source": []
  },
  {
   "cell_type": "code",
   "execution_count": null,
   "metadata": {},
   "outputs": [],
   "source": []
  },
  {
   "cell_type": "code",
   "execution_count": null,
   "metadata": {},
   "outputs": [],
   "source": []
  },
  {
   "cell_type": "code",
   "execution_count": null,
   "metadata": {},
   "outputs": [],
   "source": []
  },
  {
   "cell_type": "code",
   "execution_count": null,
   "metadata": {},
   "outputs": [],
   "source": []
  },
  {
   "cell_type": "code",
   "execution_count": null,
   "metadata": {},
   "outputs": [],
   "source": []
  },
  {
   "cell_type": "code",
   "execution_count": null,
   "metadata": {},
   "outputs": [],
   "source": []
  },
  {
   "cell_type": "code",
   "execution_count": null,
   "metadata": {},
   "outputs": [],
   "source": []
  },
  {
   "cell_type": "code",
   "execution_count": null,
   "metadata": {},
   "outputs": [],
   "source": []
  },
  {
   "cell_type": "code",
   "execution_count": null,
   "metadata": {},
   "outputs": [],
   "source": []
  }
 ],
 "metadata": {
  "kernelspec": {
   "display_name": "Python 3",
   "language": "python",
   "name": "python3"
  },
  "language_info": {
   "codemirror_mode": {
    "name": "ipython",
    "version": 3
   },
   "file_extension": ".py",
   "mimetype": "text/x-python",
   "name": "python",
   "nbconvert_exporter": "python",
   "pygments_lexer": "ipython3",
   "version": "3.6.5"
  }
 },
 "nbformat": 4,
 "nbformat_minor": 2
}
