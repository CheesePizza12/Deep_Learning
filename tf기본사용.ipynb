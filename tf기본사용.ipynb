{
 "cells": [
  {
   "cell_type": "code",
   "execution_count": 1,
   "metadata": {},
   "outputs": [
    {
     "data": {
      "text/plain": [
       "'C:\\\\Users\\\\mook\\\\Desktop\\\\bigdata\\\\tensorflow'"
      ]
     },
     "execution_count": 1,
     "metadata": {},
     "output_type": "execute_result"
    }
   ],
   "source": [
    "pwd()"
   ]
  },
  {
   "cell_type": "code",
   "execution_count": 2,
   "metadata": {},
   "outputs": [
    {
     "name": "stderr",
     "output_type": "stream",
     "text": [
      "C:\\Users\\mook\\Anaconda3\\lib\\site-packages\\h5py\\__init__.py:36: FutureWarning: Conversion of the second argument of issubdtype from `float` to `np.floating` is deprecated. In future, it will be treated as `np.float64 == np.dtype(float).type`.\n",
      "  from ._conv import register_converters as _register_converters\n"
     ]
    }
   ],
   "source": [
    "import tensorflow as tf\n",
    "import numpy as np\n",
    "import pandas as pd"
   ]
  },
  {
   "cell_type": "code",
   "execution_count": 10,
   "metadata": {},
   "outputs": [
    {
     "name": "stdout",
     "output_type": "stream",
     "text": [
      "Tensor(\"Const_3:0\", shape=(), dtype=float32)\n",
      "[3.0, 5.0, 8.0]\n"
     ]
    }
   ],
   "source": [
    "#1. 초기화\n",
    "node1 = tf.constant(3.0, tf.float32)\n",
    "node2 = tf.constant(5.0, tf.float32)\n",
    "node3 = tf.add(node1, node2)\n",
    "\n",
    "print(node2)\n",
    "\n",
    "#2. 실행\n",
    "sess = tf.Session()\n",
    "print(sess.run([node1, node2, node3]))"
   ]
  },
  {
   "cell_type": "code",
   "execution_count": 13,
   "metadata": {},
   "outputs": [
    {
     "name": "stdout",
     "output_type": "stream",
     "text": [
      "[35.  3.  8.]\n"
     ]
    }
   ],
   "source": [
    "# placeholder 설정\n",
    "ph1 = tf.placeholder(tf.float32)\n",
    "ph2 = tf.placeholder(tf.float32)\n",
    "adder = ph1 + ph2\n",
    "\n",
    "print(sess.run(adder, feed_dict={ph1 : [33,2,4], ph2: [2,1,4]}))"
   ]
  },
  {
   "cell_type": "code",
   "execution_count": 16,
   "metadata": {},
   "outputs": [
    {
     "name": "stdout",
     "output_type": "stream",
     "text": [
      "[[35.  3.  8.]\n",
      " [ 6.  3.  4.]]\n"
     ]
    }
   ],
   "source": [
    "print(sess.run(adder, feed_dict={ph1 : [[33,2,4],[2,1,3]], ph2: [[2,1,4],[4,2,1]]}))"
   ]
  },
  {
   "cell_type": "code",
   "execution_count": 29,
   "metadata": {},
   "outputs": [],
   "source": [
    "v1= tf.Variable(tf.random_normal([10,10], stddev=0.35))#리스트 안에 shape을 넣음\n",
    "v2 = tf.Variable(tf.random_normal([4,2],stddev=0.22))\n",
    "sess.run(tf.global_variables_initializer()) #variable을 쓸땐 항상 이걸로 초기화 해야함"
   ]
  },
  {
   "cell_type": "code",
   "execution_count": 4,
   "metadata": {},
   "outputs": [
    {
     "name": "stdout",
     "output_type": "stream",
     "text": [
      "[1 2 3 4]\n"
     ]
    }
   ],
   "source": [
    "sess1 = tf.InteractiveSession()\n",
    "t = tf.constant([1,2,3,4])\n",
    "print(t.eval())\n"
   ]
  },
  {
   "cell_type": "code",
   "execution_count": 5,
   "metadata": {},
   "outputs": [
    {
     "name": "stdout",
     "output_type": "stream",
     "text": [
      "[2 2]\n",
      "[[1 2]\n",
      " [3 4]]\n",
      "[[1 2]\n",
      " [6 8]]\n"
     ]
    }
   ],
   "source": [
    "mat1 = tf.constant([[1,2],[3,4]])\n",
    "mat2 = tf.constant([[1],[2]])\n",
    "print(tf.shape(mat1).eval())\n",
    "print(mat1.eval())\n",
    "\n",
    "print((mat1*mat2).eval())#행렬곱인지 브로드캐스팅 곱인지\n"
   ]
  },
  {
   "cell_type": "code",
   "execution_count": 6,
   "metadata": {},
   "outputs": [
    {
     "name": "stdout",
     "output_type": "stream",
     "text": [
      "2\n",
      "2.5\n",
      "[2. 3.]\n",
      "[1.5 3.5]\n",
      "[1.5 3.5]\n",
      "[4. 6.]\n",
      "[3. 7.]\n"
     ]
    }
   ],
   "source": [
    "x=[[1,2],[3,4]]\n",
    "print(tf.reduce_mean(x).eval())\n",
    "x=[[1.,2.],[3.,4.]]\n",
    "print(tf.reduce_mean(x).eval())\n",
    "print(tf.reduce_mean(x, axis=0).eval())\n",
    "print(tf.reduce_mean(x, axis=1).eval())\n",
    "print(tf.reduce_mean(x, axis=-1).eval())\n",
    "print(tf.reduce_sum(x, axis=0).eval())\n",
    "print(tf.reduce_sum(x, axis=1).eval())"
   ]
  },
  {
   "cell_type": "code",
   "execution_count": 7,
   "metadata": {},
   "outputs": [
    {
     "data": {
      "text/plain": [
       "array([1, 1, 1], dtype=int64)"
      ]
     },
     "execution_count": 7,
     "metadata": {},
     "output_type": "execute_result"
    }
   ],
   "source": [
    "# argmax => 가장큰 수가 있는 인덱스를 반환\n",
    "x = [[0,1,2],[3,4,5]]\n",
    "tf.argmax(x, axis=0).eval()"
   ]
  },
  {
   "cell_type": "code",
   "execution_count": 8,
   "metadata": {},
   "outputs": [
    {
     "data": {
      "text/plain": [
       "array([2, 2], dtype=int64)"
      ]
     },
     "execution_count": 8,
     "metadata": {},
     "output_type": "execute_result"
    }
   ],
   "source": [
    "x = [[0,1,2],[3,4,5]]\n",
    "tf.argmax(x, axis=1).eval()"
   ]
  },
  {
   "cell_type": "code",
   "execution_count": 9,
   "metadata": {},
   "outputs": [
    {
     "data": {
      "text/plain": [
       "array([[1, 2, 3],\n",
       "       [4, 5, 6],\n",
       "       [7, 8, 9]])"
      ]
     },
     "execution_count": 9,
     "metadata": {},
     "output_type": "execute_result"
    }
   ],
   "source": [
    "x = [1,2,3,4,5,6,7,8,9]\n",
    "tf.reshape(x,[3,3]).eval()"
   ]
  },
  {
   "cell_type": "code",
   "execution_count": 5,
   "metadata": {
    "scrolled": true
   },
   "outputs": [
    {
     "data": {
      "text/plain": [
       "array([[[1., 0., 0., 0.]],\n",
       "\n",
       "       [[0., 1., 0., 0.]],\n",
       "\n",
       "       [[0., 0., 1., 0.]],\n",
       "\n",
       "       [[0., 0., 0., 1.]],\n",
       "\n",
       "       [[0., 0., 0., 0.]]], dtype=float32)"
      ]
     },
     "execution_count": 5,
     "metadata": {},
     "output_type": "execute_result"
    }
   ],
   "source": [
    "# one_hot encoder\n",
    "t = tf.one_hot([[0],[1],[2],[3],[4]], depth =4).eval()\n",
    "t"
   ]
  },
  {
   "cell_type": "code",
   "execution_count": 6,
   "metadata": {},
   "outputs": [
    {
     "name": "stdout",
     "output_type": "stream",
     "text": [
      "[[1. 0. 0. 0.]\n",
      " [0. 1. 0. 0.]\n",
      " [0. 0. 1. 0.]\n",
      " [0. 0. 0. 1.]\n",
      " [0. 0. 0. 0.]]\n"
     ]
    }
   ],
   "source": [
    "t = tf.reshape(t,[-1,4]).eval()\n",
    "print(t)"
   ]
  },
  {
   "cell_type": "code",
   "execution_count": null,
   "metadata": {},
   "outputs": [],
   "source": [
    "# 타입 캐스팅\n"
   ]
  },
  {
   "cell_type": "code",
   "execution_count": 12,
   "metadata": {},
   "outputs": [
    {
     "data": {
      "text/plain": [
       "array([[1, 4],\n",
       "       [5, 3],\n",
       "       [1, 3]])"
      ]
     },
     "execution_count": 12,
     "metadata": {},
     "output_type": "execute_result"
    }
   ],
   "source": [
    "# stack\n",
    "x=[1,4]\n",
    "y=[5,3]\n",
    "z=[1,3]\n",
    "tf.stack([x,y,z]).eval()"
   ]
  },
  {
   "cell_type": "code",
   "execution_count": 13,
   "metadata": {},
   "outputs": [
    {
     "name": "stdout",
     "output_type": "stream",
     "text": [
      "[[1 1 1]\n",
      " [1 1 1]\n",
      " [1 1 1]]\n",
      "[[0 0 0]\n",
      " [0 0 0]\n",
      " [0 0 0]]\n"
     ]
    }
   ],
   "source": [
    "# ~와 같은 shape의 행렬 만들기\n",
    "x = [[1,3,4],[1,5,7],[6,3,4]]\n",
    "\n",
    "print(tf.ones_like(x).eval())\n",
    "print(tf.zeros_like(x).eval())"
   ]
  },
  {
   "cell_type": "code",
   "execution_count": 19,
   "metadata": {},
   "outputs": [
    {
     "name": "stdout",
     "output_type": "stream",
     "text": [
      "(2, 3)\n",
      "2\n",
      "[[[[7 7 7]\n",
      "   [7 7 7]\n",
      "   [7 7 7]]\n",
      "\n",
      "  [[7 7 7]\n",
      "   [7 7 7]\n",
      "   [7 7 7]]\n",
      "\n",
      "  [[7 7 7]\n",
      "   [7 7 7]\n",
      "   [7 7 7]]]\n",
      "\n",
      "\n",
      " [[[7 7 7]\n",
      "   [7 7 7]\n",
      "   [7 7 7]]\n",
      "\n",
      "  [[7 7 7]\n",
      "   [7 7 7]\n",
      "   [7 7 7]]\n",
      "\n",
      "  [[7 7 7]\n",
      "   [7 7 7]\n",
      "   [7 7 7]]]\n",
      "\n",
      "\n",
      " [[[7 7 7]\n",
      "   [7 7 7]\n",
      "   [7 7 7]]\n",
      "\n",
      "  [[7 7 7]\n",
      "   [7 7 7]\n",
      "   [7 7 7]]\n",
      "\n",
      "  [[7 7 7]\n",
      "   [7 7 7]\n",
      "   [7 7 7]]]]\n",
      "[[1. 0. 0.]\n",
      " [0. 1. 0.]\n",
      " [0. 0. 1.]]\n"
     ]
    }
   ],
   "source": [
    "x= np.array([[1,2,3],[4,1,2]])\n",
    "print(x.shape)\n",
    "print(np.ndim(x))\n",
    "\n",
    "a = np.zeros((10,10))\n",
    "b = np.ones((10,10))\n",
    "c = np.full((3,3,3,3),7)\n",
    "print(c)\n",
    "d = np.eye(3)\n",
    "print(d)"
   ]
  },
  {
   "cell_type": "code",
   "execution_count": 23,
   "metadata": {},
   "outputs": [
    {
     "data": {
      "text/plain": [
       "array([ 0.        ,  1.05263158,  2.10526316,  3.15789474,  4.21052632,\n",
       "        5.26315789,  6.31578947,  7.36842105,  8.42105263,  9.47368421,\n",
       "       10.52631579, 11.57894737, 12.63157895, 13.68421053, 14.73684211,\n",
       "       15.78947368, 16.84210526, 17.89473684, 18.94736842, 20.        ])"
      ]
     },
     "execution_count": 23,
     "metadata": {},
     "output_type": "execute_result"
    }
   ],
   "source": [
    "np.random.random((3,3))\n",
    "#tf.random_normal\n",
    "\n"
   ]
  },
  {
   "cell_type": "code",
   "execution_count": 24,
   "metadata": {},
   "outputs": [
    {
     "data": {
      "text/plain": [
       "array([ 0.        ,  1.05263158,  2.10526316,  3.15789474,  4.21052632,\n",
       "        5.26315789,  6.31578947,  7.36842105,  8.42105263,  9.47368421,\n",
       "       10.52631579, 11.57894737, 12.63157895, 13.68421053, 14.73684211,\n",
       "       15.78947368, 16.84210526, 17.89473684, 18.94736842, 20.        ])"
      ]
     },
     "execution_count": 24,
     "metadata": {},
     "output_type": "execute_result"
    }
   ],
   "source": [
    "# linspace => 0~20사이를 20개구간으로 나눔\n",
    "np.linspace(0,20,20)\n"
   ]
  },
  {
   "cell_type": "code",
   "execution_count": 26,
   "metadata": {},
   "outputs": [
    {
     "name": "stdout",
     "output_type": "stream",
     "text": [
      "[[2 3]\n",
      " [5 6]]\n",
      "[[3]\n",
      " [6]\n",
      " [9]]\n"
     ]
    }
   ],
   "source": [
    "# 2차원 슬라이싱\n",
    "x = np.array([[1,2,3],[4,5,6],[7,8,9]])\n",
    "# 2,3 5,6만 슬라이싱 해봐\n",
    "print(x[:2,1:])\n",
    "#각 원소 맨끝만\n",
    "print(x[:,2:])"
   ]
  },
  {
   "cell_type": "code",
   "execution_count": 31,
   "metadata": {},
   "outputs": [
    {
     "name": "stdout",
     "output_type": "stream",
     "text": [
      "[[ 0  1  2]\n",
      " [ 3  4  5]\n",
      " [ 6  7  8]\n",
      " [ 9 10 11]]\n",
      "[[-1.  0.  1.]\n",
      " [-1.  0.  1.]\n",
      " [-1.  0.  1.]\n",
      " [-1.  0.  1.]]\n"
     ]
    }
   ],
   "source": [
    "# RESHAPE\n",
    "arr =np.arange(12).reshape(4,3)\n",
    "print(arr)\n",
    "row_mean = arr.mean(axis=1).reshape(4,1)\n",
    "k = arr-row_mean ## normalize하는 기법으로도 쓰임\n",
    "print(k)"
   ]
  },
  {
   "cell_type": "code",
   "execution_count": null,
   "metadata": {},
   "outputs": [],
   "source": [
    "\n"
   ]
  },
  {
   "cell_type": "code",
   "execution_count": null,
   "metadata": {},
   "outputs": [],
   "source": []
  }
 ],
 "metadata": {
  "kernelspec": {
   "display_name": "Python 3",
   "language": "python",
   "name": "python3"
  },
  "language_info": {
   "codemirror_mode": {
    "name": "ipython",
    "version": 3
   },
   "file_extension": ".py",
   "mimetype": "text/x-python",
   "name": "python",
   "nbconvert_exporter": "python",
   "pygments_lexer": "ipython3",
   "version": "3.6.5"
  }
 },
 "nbformat": 4,
 "nbformat_minor": 2
}
