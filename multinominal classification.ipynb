{
 "cells": [
  {
   "cell_type": "code",
   "execution_count": 1,
   "metadata": {},
   "outputs": [
    {
     "name": "stderr",
     "output_type": "stream",
     "text": [
      "C:\\Users\\mook\\Anaconda3\\lib\\site-packages\\h5py\\__init__.py:36: FutureWarning: Conversion of the second argument of issubdtype from `float` to `np.floating` is deprecated. In future, it will be treated as `np.float64 == np.dtype(float).type`.\n",
      "  from ._conv import register_converters as _register_converters\n"
     ]
    }
   ],
   "source": [
    "import numpy as np\n",
    "import pandas as pd\n",
    "import tensorflow as tf"
   ]
  },
  {
   "cell_type": "code",
   "execution_count": 11,
   "metadata": {},
   "outputs": [],
   "source": [
    "x_data = [[2., 5., 6., 8.],\n",
    "          [5., 7., 9., 32.],\n",
    "          [1., 2., 4., 81.],\n",
    "          [3., 4., 17., 26.],\n",
    "          [1., 3., 14., 29.], \n",
    "          [10., 19., 31.,38.]]\n",
    "\n",
    "y_data = [[0, 1, 1],\n",
    "          [1, 0, 1],\n",
    "          [0, 0, 0],\n",
    "          [1, 1, 1],\n",
    "          [1, 0, 0],\n",
    "          [1, 0, 1]]\n",
    "\n",
    "\n",
    "X = tf.placeholder(tf.float32, shape=[None, 4])\n",
    "Y = tf.placeholder(tf.float32, shape=[None, 3])\n",
    "\n",
    "W = tf.Variable(tf.random_normal([4, 3]))\n",
    "b = tf.Variable(tf.random_normal([3]))\n",
    "\n",
    "hypothesis = tf.nn.softmax(tf.matmul(X, W) + b)   # tf.nn.softmax만 추가했다\n",
    "# cost = -tf.reduce_mean(tf.reduce_sum(y * tf.log(hypothesis)\n",
    "#                                     + (1-Y)*tf.log(1-hypothesis)))\n",
    "\n",
    "cost = -tf.reduce_mean(tf.reduce_sum(Y * tf.log(hypothesis), axis=1))\n",
    "optimizer = tf.train.GradientDescentOptimizer(learning_rate=0.00001).minimize(cost)"
   ]
  },
  {
   "cell_type": "code",
   "execution_count": 13,
   "metadata": {},
   "outputs": [
    {
     "name": "stdout",
     "output_type": "stream",
     "text": [
      "step 0 cost 15.858963\n",
      "step 100 cost 15.162211\n",
      "step 200 cost 14.527119\n",
      "step 300 cost 13.961766\n",
      "step 400 cost 13.46893\n",
      "step 500 cost 13.032242\n",
      "step 600 cost 12.632846\n",
      "step 700 cost 12.261291\n",
      "step 800 cost 11.918492\n",
      "step 900 cost 11.612668\n",
      "step 1000 cost 11.352933\n",
      "step 1100 cost 11.141338\n",
      "step 1200 cost 10.970474\n",
      "step 1300 cost 10.828606\n",
      "step 1400 cost 10.705262\n",
      "step 1500 cost 10.593166\n",
      "step 1600 cost 10.487798\n",
      "step 1700 cost 10.386473\n",
      "step 1800 cost 10.287615\n",
      "step 1900 cost 10.1902895\n",
      "step 2000 cost 10.093928\n",
      "step 2100 cost 9.998193\n",
      "step 2200 cost 9.90287\n",
      "step 2300 cost 9.807834\n",
      "step 2400 cost 9.712999\n",
      "step 2500 cost 9.618318\n",
      "step 2600 cost 9.523757\n",
      "step 2700 cost 9.429292\n",
      "step 2800 cost 9.334916\n",
      "step 2900 cost 9.240624\n"
     ]
    }
   ],
   "source": [
    "sess = tf.Session()\n",
    "sess.run(tf.global_variables_initializer())\n",
    "for step in range(3000):\n",
    "    cost_v, _ = sess.run([cost, optimizer], feed_dict={X:x_data,Y:y_data})\n",
    "    if step %100 ==0 :\n",
    "        print('step', step, 'cost',cost_v)"
   ]
  },
  {
   "cell_type": "code",
   "execution_count": 16,
   "metadata": {},
   "outputs": [
    {
     "data": {
      "text/plain": [
       "array([[1.4104825e-01, 7.6433981e-04, 8.5818744e-01],\n",
       "       [6.7353256e-02, 1.4827460e-05, 9.3263191e-01]], dtype=float32)"
      ]
     },
     "execution_count": 16,
     "metadata": {},
     "output_type": "execute_result"
    }
   ],
   "source": [
    "result = sess.run(hypothesis, feed_dict={X:[[1,3,5,7], [3,6,7,9]]})\n",
    "result"
   ]
  },
  {
   "cell_type": "code",
   "execution_count": 19,
   "metadata": {},
   "outputs": [
    {
     "name": "stdout",
     "output_type": "stream",
     "text": [
      "[2 2]\n"
     ]
    }
   ],
   "source": [
    "print(sess.run(tf.argmax(result,1)))"
   ]
  },
  {
   "cell_type": "code",
   "execution_count": 20,
   "metadata": {},
   "outputs": [],
   "source": [
    "# 데이터 받아서 하기"
   ]
  },
  {
   "cell_type": "code",
   "execution_count": 22,
   "metadata": {},
   "outputs": [
    {
     "data": {
      "text/plain": [
       "array([[1., 0., 0., ..., 0., 1., 0.],\n",
       "       [1., 0., 0., ..., 0., 1., 0.],\n",
       "       [0., 0., 1., ..., 0., 0., 3.],\n",
       "       ...,\n",
       "       [1., 0., 0., ..., 0., 1., 0.],\n",
       "       [0., 0., 1., ..., 0., 0., 6.],\n",
       "       [0., 1., 1., ..., 0., 0., 1.]], dtype=float32)"
      ]
     },
     "execution_count": 22,
     "metadata": {},
     "output_type": "execute_result"
    }
   ],
   "source": [
    "xy = np.loadtxt('zoo.csv', delimiter=',',dtype=np.float32)\n",
    "xy"
   ]
  },
  {
   "cell_type": "code",
   "execution_count": 53,
   "metadata": {},
   "outputs": [],
   "source": [
    "x_data = xy[:,:-1]\n",
    "y_data = xy[:,[-1]]"
   ]
  },
  {
   "cell_type": "code",
   "execution_count": 54,
   "metadata": {},
   "outputs": [],
   "source": []
  },
  {
   "cell_type": "code",
   "execution_count": 50,
   "metadata": {},
   "outputs": [
    {
     "data": {
      "text/plain": [
       "(101, 16)"
      ]
     },
     "execution_count": 50,
     "metadata": {},
     "output_type": "execute_result"
    }
   ],
   "source": [
    "x_data.shape"
   ]
  },
  {
   "cell_type": "code",
   "execution_count": 76,
   "metadata": {},
   "outputs": [
    {
     "data": {
      "text/plain": [
       "(101, 7)"
      ]
     },
     "execution_count": 76,
     "metadata": {},
     "output_type": "execute_result"
    }
   ],
   "source": [
    "y_data_hot = tf.one_hot(y_data,depth=7)\n",
    "y_data_hot= tf.reshape(y_data_hot,[-1,7])\n",
    "y_data_hot=sess.run(y_data_hot)\n",
    "y_data_hot.shape"
   ]
  },
  {
   "cell_type": "code",
   "execution_count": 83,
   "metadata": {},
   "outputs": [
    {
     "data": {
      "text/plain": [
       "(70, 16)"
      ]
     },
     "execution_count": 83,
     "metadata": {},
     "output_type": "execute_result"
    }
   ],
   "source": [
    "x_train = x_data[:70,:]\n",
    "x_test =x_data[70:,:]\n",
    "y_train = y_data_hot[:70,:]\n",
    "y_test = y_data_hot[70:,:]\n",
    "x_train.shape"
   ]
  },
  {
   "cell_type": "code",
   "execution_count": 97,
   "metadata": {},
   "outputs": [],
   "source": [
    "X = tf.placeholder(tf.float32, shape=[None,16])\n",
    "Y = tf.placeholder(tf.float32, shape=[None,7])\n",
    "\n",
    "\n",
    "W = tf.Variable(tf.random_normal([16, 7]))\n",
    "b = tf.Variable(tf.random_normal([7]))\n",
    "\n",
    "#1안\n",
    "#hypothesis = tf.nn.softmax(tf.matmul(X, W) + b)\n",
    "#cost = -tf.reduce_mean(tf.reduce_sum(Y * tf.log(hypothesis), axis=1))\n",
    "#2안\n",
    "logits = tf.matmul(X, W) + b\n",
    "hypothesis = tf.nn.softmax(logits)\n",
    "cost = tf.reduce_mean(tf.nn.softmax_cross_entropy_with_logits(logits=logits, labels=Y))\n",
    "optimizer = tf.train.GradientDescentOptimizer(learning_rate=0.1).minimize(cost)\n",
    "\n",
    "###\n",
    "prediction = tf.argmax(hypothesis,1)\n",
    "correct_prediction = tf.equal(prediction, tf.argmax(Y,1))\n",
    "accuracy = tf.reduce_mean(tf.cast(correct_prediction, tf.float32))"
   ]
  },
  {
   "cell_type": "code",
   "execution_count": 98,
   "metadata": {},
   "outputs": [
    {
     "name": "stdout",
     "output_type": "stream",
     "text": [
      "step 0 cost 7.654683\n",
      "step 100 cost 0.57132524\n",
      "step 200 cost 0.32990718\n",
      "step 300 cost 0.24515302\n",
      "step 400 cost 0.19624351\n",
      "step 500 cost 0.16216795\n",
      "step 600 cost 0.13600802\n",
      "step 700 cost 0.11484469\n",
      "step 800 cost 0.09732686\n",
      "step 900 cost 0.082817644\n",
      "step 1000 cost 0.07095522\n",
      "step 1100 cost 0.061395045\n",
      "step 1200 cost 0.0537395\n",
      "step 1300 cost 0.04758917\n",
      "step 1400 cost 0.042600397\n",
      "step 1500 cost 0.03850342\n",
      "step 1600 cost 0.035094965\n",
      "step 1700 cost 0.032223906\n",
      "step 1800 cost 0.02977769\n",
      "step 1900 cost 0.027671605\n",
      "step 2000 cost 0.025841186\n",
      "step 2100 cost 0.024236856\n",
      "step 2200 cost 0.022819852\n",
      "step 2300 cost 0.021559697\n",
      "step 2400 cost 0.02043206\n",
      "step 2500 cost 0.01941723\n",
      "step 2600 cost 0.018499251\n",
      "step 2700 cost 0.017664976\n",
      "step 2800 cost 0.016903479\n",
      "step 2900 cost 0.016205689\n",
      "1.0\n"
     ]
    }
   ],
   "source": [
    "sess = tf.Session()\n",
    "sess.run(tf.global_variables_initializer())\n",
    "for step in range(3000):\n",
    "    cost_v, _ = sess.run([cost, optimizer], feed_dict={X:x_train,Y:y_train})\n",
    "    if step %100 ==0 :\n",
    "        print('step', step, 'cost',cost_v)\n",
    "print(sess.run(accuracy, feed_dict={X:x_train,Y:y_train}))"
   ]
  },
  {
   "cell_type": "code",
   "execution_count": 99,
   "metadata": {},
   "outputs": [
    {
     "data": {
      "text/plain": [
       "0.8064516"
      ]
     },
     "execution_count": 99,
     "metadata": {},
     "output_type": "execute_result"
    }
   ],
   "source": [
    "result = sess.run(accuracy, feed_dict={X:x_test, Y:y_test})\n",
    "result"
   ]
  },
  {
   "cell_type": "code",
   "execution_count": 49,
   "metadata": {},
   "outputs": [
    {
     "name": "stdout",
     "output_type": "stream",
     "text": [
      "[1]\n"
     ]
    }
   ],
   "source": [
    "print(sess.run(tf.argmax(result,axis=1)))"
   ]
  },
  {
   "cell_type": "code",
   "execution_count": null,
   "metadata": {},
   "outputs": [],
   "source": []
  }
 ],
 "metadata": {
  "kernelspec": {
   "display_name": "Python 3",
   "language": "python",
   "name": "python3"
  },
  "language_info": {
   "codemirror_mode": {
    "name": "ipython",
    "version": 3
   },
   "file_extension": ".py",
   "mimetype": "text/x-python",
   "name": "python",
   "nbconvert_exporter": "python",
   "pygments_lexer": "ipython3",
   "version": "3.6.5"
  }
 },
 "nbformat": 4,
 "nbformat_minor": 2
}
