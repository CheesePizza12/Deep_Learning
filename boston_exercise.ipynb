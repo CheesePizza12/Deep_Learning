{
 "cells": [
  {
   "cell_type": "code",
   "execution_count": 65,
   "metadata": {},
   "outputs": [],
   "source": [
    "import numpy as np\n",
    "import pandas as pd\n",
    "import tensorflow as tf\n",
    "import random"
   ]
  },
  {
   "cell_type": "code",
   "execution_count": 66,
   "metadata": {},
   "outputs": [],
   "source": [
    "xy_train = np.loadtxt('boston_train.csv',delimiter=',',dtype=np.float32,skiprows=1)\n",
    "xy_test = np.loadtxt('boston_test.csv',delimiter=',',dtype=np.float32, skiprows=1)"
   ]
  },
  {
   "cell_type": "code",
   "execution_count": 67,
   "metadata": {},
   "outputs": [],
   "source": [
    "x_train = xy_train[:,:-1]\n",
    "y_train = xy_train[:,[-1]]\n",
    "x_test = xy_test[:,:-1]\n",
    "y_test = xy_test[:,[-1]]"
   ]
  },
  {
   "cell_type": "code",
   "execution_count": 86,
   "metadata": {},
   "outputs": [
    {
     "name": "stdout",
     "output_type": "stream",
     "text": [
      "(400, 1)\n"
     ]
    }
   ],
   "source": [
    "np.unique(y_train)\n",
    "print(y_train.shape)"
   ]
  },
  {
   "cell_type": "code",
   "execution_count": 69,
   "metadata": {},
   "outputs": [
    {
     "data": {
      "text/plain": [
       "(400, 9)"
      ]
     },
     "execution_count": 69,
     "metadata": {},
     "output_type": "execute_result"
    }
   ],
   "source": [
    "x_train.shape"
   ]
  },
  {
   "cell_type": "code",
   "execution_count": 104,
   "metadata": {},
   "outputs": [],
   "source": [
    "X = tf.placeholder(tf.float32, shape=[None,9])\n",
    "Y = tf.placeholder(tf.float32, shape=[None,1])\n",
    "\n",
    "\n",
    "W1 = tf.Variable(tf.random_normal([9,100]), name= 'weight1')\n",
    "B1 = tf.Variable(tf.random_normal([100]), name= 'bias')\n",
    "L1 = tf.nn.relu(tf.matmul(X,W1)+B1)\n",
    "\n",
    "W2 = tf.Variable(tf.random_normal([100,100]))\n",
    "B2 = tf.Variable(tf.random_normal([100]))\n",
    "L2 = tf.nn.relu(tf.matmul(L1,W2)+B2)\n",
    "\n",
    "W3 = tf.Variable(tf.random_normal([100,100]))\n",
    "B3 = tf.Variable(tf.random_normal([100]))\n",
    "L3 = tf.nn.relu(tf.matmul(L2,W3)+B3)\n",
    "\n",
    "W4 = tf.Variable(tf.random_normal([100,100]))\n",
    "B4 = tf.Variable(tf.random_normal([100]))\n",
    "L4 = tf.nn.relu(tf.matmul(L3,W4)+B4)\n",
    "\n",
    "W5 = tf.Variable(tf.random_normal([100,1]))\n",
    "B5 = tf.Variable(tf.random_normal([1]))\n",
    "\n",
    "\n",
    "#방법설정\n",
    "hypothesis = tf.nn.relu(tf.matmul(L4,W5)+B5)\n",
    "\n",
    "#기준설정\n",
    "cost = tf.reduce_mean(tf.square(hypothesis-Y))\n",
    "optimizer = tf.train.AdamOptimizer(learning_rate=1e-3)\n",
    "train = optimizer.minimize(cost)\n",
    "\n"
   ]
  },
  {
   "cell_type": "code",
   "execution_count": 105,
   "metadata": {},
   "outputs": [
    {
     "name": "stdout",
     "output_type": "stream",
     "text": [
      "step 0 cost 603.3187\n",
      "step 200 cost 603.3187\n",
      "step 400 cost 603.3187\n",
      "step 600 cost 603.3187\n",
      "step 800 cost 603.3187\n",
      "step 1000 cost 603.3187\n",
      "step 1200 cost 603.3187\n",
      "step 1400 cost 603.3187\n",
      "step 1600 cost 603.3187\n",
      "step 1800 cost 603.3187\n"
     ]
    }
   ],
   "source": [
    "sess = tf.Session()\n",
    "sess.run(tf.global_variables_initializer())\n",
    "\n",
    "for step in range(2000):\n",
    "    cost_val, _ = sess.run([cost, train], feed_dict={X:x_train, Y:y_train})\n",
    "    if step % 200 ==0:\n",
    "        print('step', step, 'cost', cost_val)"
   ]
  },
  {
   "cell_type": "code",
   "execution_count": 88,
   "metadata": {},
   "outputs": [
    {
     "ename": "NameError",
     "evalue": "name 'mnist' is not defined",
     "output_type": "error",
     "traceback": [
      "\u001b[1;31m---------------------------------------------------------------------------\u001b[0m",
      "\u001b[1;31mNameError\u001b[0m                                 Traceback (most recent call last)",
      "\u001b[1;32m<ipython-input-88-7699a4ddfad1>\u001b[0m in \u001b[0;36m<module>\u001b[1;34m()\u001b[0m\n\u001b[0;32m      5\u001b[0m \u001b[1;32mfor\u001b[0m \u001b[0mepoch\u001b[0m \u001b[1;32min\u001b[0m \u001b[0mrange\u001b[0m\u001b[1;33m(\u001b[0m\u001b[0mtraining_epoch\u001b[0m\u001b[1;33m)\u001b[0m\u001b[1;33m:\u001b[0m\u001b[1;33m\u001b[0m\u001b[0m\n\u001b[0;32m      6\u001b[0m     \u001b[0mavg_cost\u001b[0m \u001b[1;33m=\u001b[0m \u001b[1;36m0\u001b[0m\u001b[1;33m\u001b[0m\u001b[0m\n\u001b[1;32m----> 7\u001b[1;33m     \u001b[0mtotal_batch\u001b[0m \u001b[1;33m=\u001b[0m \u001b[0mint\u001b[0m\u001b[1;33m(\u001b[0m\u001b[0mmnist\u001b[0m\u001b[1;33m.\u001b[0m\u001b[0mtrain\u001b[0m\u001b[1;33m.\u001b[0m\u001b[0mnum_examples\u001b[0m\u001b[1;33m/\u001b[0m\u001b[0mbatch_size\u001b[0m\u001b[1;33m)\u001b[0m \u001b[1;31m#550\u001b[0m\u001b[1;33m\u001b[0m\u001b[0m\n\u001b[0m\u001b[0;32m      8\u001b[0m     \u001b[1;32mfor\u001b[0m \u001b[0mi\u001b[0m \u001b[1;32min\u001b[0m \u001b[0mrange\u001b[0m\u001b[1;33m(\u001b[0m\u001b[0mtotal_batch\u001b[0m\u001b[1;33m)\u001b[0m\u001b[1;33m:\u001b[0m\u001b[1;33m\u001b[0m\u001b[0m\n\u001b[0;32m      9\u001b[0m         \u001b[0mbatch_xs\u001b[0m\u001b[1;33m,\u001b[0m \u001b[0mbatch_ys\u001b[0m \u001b[1;33m=\u001b[0m \u001b[0mmnist\u001b[0m\u001b[1;33m.\u001b[0m\u001b[0mtrain\u001b[0m\u001b[1;33m.\u001b[0m\u001b[0mnext_batch\u001b[0m\u001b[1;33m(\u001b[0m\u001b[0mbatch_size\u001b[0m\u001b[1;33m)\u001b[0m\u001b[1;33m\u001b[0m\u001b[0m\n",
      "\u001b[1;31mNameError\u001b[0m: name 'mnist' is not defined"
     ]
    }
   ],
   "source": [
    "training_epoch = 5\n",
    "batch_size = 100\n",
    "sess = tf.Session()\n",
    "sess.run(tf.global_variables_initializer())\n",
    "for epoch in range(training_epoch):\n",
    "    avg_cost = 0\n",
    "    total_batch = int(mnist.train.num_examples/batch_size) #550\n",
    "    start=0\n",
    "    end=len()\n",
    "    for i in range(total_batch):\n",
    "        batch_xs, batch_ys = mnist.train.next_batch(batch_size)\n",
    "        c, _ = sess.run([cost, optimizer],feed_dict={X:batch_xs,Y:batch_ys})\n",
    "        avg_cost += c/total_batch\n",
    "    print(\"Epoch :\",epoch, 'Cost', avg_cost)"
   ]
  },
  {
   "cell_type": "code",
   "execution_count": 106,
   "metadata": {},
   "outputs": [
    {
     "data": {
      "text/plain": [
       "23.31719"
      ]
     },
     "execution_count": 106,
     "metadata": {},
     "output_type": "execute_result"
    }
   ],
   "source": [
    "sess.run(tf.sqrt(tf.reduce_mean(tf.square(hypothesis-Y))),feed_dict={X:x_test, Y:y_test})"
   ]
  },
  {
   "cell_type": "code",
   "execution_count": null,
   "metadata": {},
   "outputs": [],
   "source": []
  }
 ],
 "metadata": {
  "kernelspec": {
   "display_name": "Python 3",
   "language": "python",
   "name": "python3"
  },
  "language_info": {
   "codemirror_mode": {
    "name": "ipython",
    "version": 3
   },
   "file_extension": ".py",
   "mimetype": "text/x-python",
   "name": "python",
   "nbconvert_exporter": "python",
   "pygments_lexer": "ipython3",
   "version": "3.6.5"
  }
 },
 "nbformat": 4,
 "nbformat_minor": 2
}
