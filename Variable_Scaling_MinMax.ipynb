{
 "cells": [
  {
   "cell_type": "code",
   "execution_count": 1,
   "metadata": {},
   "outputs": [
    {
     "name": "stderr",
     "output_type": "stream",
     "text": [
      "C:\\Users\\mook\\Anaconda3\\lib\\site-packages\\h5py\\__init__.py:36: FutureWarning: Conversion of the second argument of issubdtype from `float` to `np.floating` is deprecated. In future, it will be treated as `np.float64 == np.dtype(float).type`.\n",
      "  from ._conv import register_converters as _register_converters\n"
     ]
    }
   ],
   "source": [
    "import numpy as np\n",
    "import pandas as pd\n",
    "import tensorflow as tf\n",
    "import matplotlib.pyplot as plt"
   ]
  },
  {
   "cell_type": "code",
   "execution_count": 2,
   "metadata": {},
   "outputs": [],
   "source": [
    "def MinMaxScalar(data):\n",
    "    bunja = data-np.min(data,0)\n",
    "    bunmo = np.max(data,0) - np.min(data,0)\n",
    "    return bunja/(bunmo+1e-10)"
   ]
  },
  {
   "cell_type": "markdown",
   "metadata": {},
   "source": [
    "# 스케일 조정"
   ]
  },
  {
   "cell_type": "code",
   "execution_count": 3,
   "metadata": {},
   "outputs": [],
   "source": [
    "xy = np.array([[828.659973, 833.450012, 908100, 828.349976, 831.659973],\n",
    "              [823.02002, 828.070007, 1828100, 821.655029, 828.070007],\n",
    "              [819.929993, 824.400024, 1438100, 818.97998, 824.159973],\n",
    "              [816, 820.958984, 1008100, 815.48999, 819.23999],\n",
    "              [819.359985, 823, 1188100, 818.469971, 818.97998],\n",
    "              [819, 823, 1198100, 816, 820.450012],\n",
    "              [811.700012, 815.25, 1098100, 809.780029, 813.669983],\n",
    "              [809.51001, 816.659973, 1398100, 804.539978, 809.559998]])"
   ]
  },
  {
   "cell_type": "code",
   "execution_count": 8,
   "metadata": {},
   "outputs": [
    {
     "data": {
      "text/plain": [
       "array([[1.        , 1.        , 0.        , 1.        , 1.        ],\n",
       "       [0.70548491, 0.70439552, 1.        , 0.71881783, 0.83755792],\n",
       "       [0.54412549, 0.50274824, 0.57608696, 0.60646801, 0.6606331 ],\n",
       "       [0.33890353, 0.31368023, 0.10869565, 0.45989134, 0.43800918],\n",
       "       [0.51436   , 0.4258239 , 0.30434783, 0.58504805, 0.42624401],\n",
       "       [0.49556179, 0.4258239 , 0.31521739, 0.48131134, 0.49276137],\n",
       "       [0.11436064, 0.        , 0.20652174, 0.22007776, 0.18597238],\n",
       "       [0.        , 0.07747099, 0.5326087 , 0.        , 0.        ]])"
      ]
     },
     "execution_count": 8,
     "metadata": {},
     "output_type": "execute_result"
    }
   ],
   "source": [
    "xy= MinMaxScalar(xy)\n",
    "xy"
   ]
  },
  {
   "cell_type": "code",
   "execution_count": 6,
   "metadata": {},
   "outputs": [],
   "source": [
    "x_data = xy[:,:-1]\n",
    "y_data = xy[:,[-1]]\n",
    "X= tf.placeholder(tf.float32, shape=[None,4])\n",
    "Y= tf.placeholder(tf.float32, shape=[None,1])\n",
    "\n",
    "W = tf.Variable(tf.random_normal([4,1]))\n",
    "B = tf.Variable(tf.random_normal([1]))\n",
    "\n",
    "hypothesis = tf.matmul(X,W)+B\n",
    "cost = tf.reduce_mean(tf.square(hypothesis - Y))\n",
    "optimizer = tf.train.GradientDescentOptimizer(learning_rate=0.001)\n",
    "\n",
    "train = optimizer.minimize(cost)"
   ]
  },
  {
   "cell_type": "code",
   "execution_count": 7,
   "metadata": {},
   "outputs": [
    {
     "name": "stdout",
     "output_type": "stream",
     "text": [
      "step 0 cost 0.17345636\n",
      "step 100 cost 0.1496823\n",
      "step 200 cost 0.13678592\n",
      "step 300 cost 0.12899849\n",
      "step 400 cost 0.123637155\n",
      "step 500 cost 0.119453244\n",
      "step 600 cost 0.11586504\n",
      "step 700 cost 0.11260081\n",
      "step 800 cost 0.10953274\n",
      "step 900 cost 0.1066002\n",
      "step 1000 cost 0.10377366\n",
      "step 1100 cost 0.10103821\n",
      "step 1200 cost 0.09838573\n",
      "step 1300 cost 0.09581125\n",
      "step 1400 cost 0.09331138\n",
      "step 1500 cost 0.090883344\n",
      "step 1600 cost 0.08852484\n",
      "step 1700 cost 0.08623374\n",
      "step 1800 cost 0.084008045\n",
      "step 1900 cost 0.0818459\n"
     ]
    }
   ],
   "source": [
    "sess = tf.Session()\n",
    "sess.run(tf.global_variables_initializer())\n",
    "for step in range(2000):\n",
    "    cost_v, _ = sess.run([cost, train], feed_dict={X:x_data,Y:y_data})\n",
    "    if step %100 ==0 :\n",
    "        print('step', step, 'cost',cost_v)"
   ]
  },
  {
   "cell_type": "code",
   "execution_count": null,
   "metadata": {},
   "outputs": [],
   "source": []
  },
  {
   "cell_type": "code",
   "execution_count": null,
   "metadata": {},
   "outputs": [],
   "source": []
  }
 ],
 "metadata": {
  "kernelspec": {
   "display_name": "Python 3",
   "language": "python",
   "name": "python3"
  },
  "language_info": {
   "codemirror_mode": {
    "name": "ipython",
    "version": 3
   },
   "file_extension": ".py",
   "mimetype": "text/x-python",
   "name": "python",
   "nbconvert_exporter": "python",
   "pygments_lexer": "ipython3",
   "version": "3.6.5"
  }
 },
 "nbformat": 4,
 "nbformat_minor": 2
}
