{
 "cells": [
  {
   "cell_type": "code",
   "execution_count": 3,
   "metadata": {},
   "outputs": [
    {
     "name": "stderr",
     "output_type": "stream",
     "text": [
      "C:\\Users\\mook\\Anaconda3\\lib\\site-packages\\h5py\\__init__.py:36: FutureWarning: Conversion of the second argument of issubdtype from `float` to `np.floating` is deprecated. In future, it will be treated as `np.float64 == np.dtype(float).type`.\n",
      "  from ._conv import register_converters as _register_converters\n"
     ]
    },
    {
     "name": "stdout",
     "output_type": "stream",
     "text": [
      "Extracting MNIST_data/train-images-idx3-ubyte.gz\n",
      "Extracting MNIST_data/train-labels-idx1-ubyte.gz\n",
      "Extracting MNIST_data/t10k-images-idx3-ubyte.gz\n",
      "Extracting MNIST_data/t10k-labels-idx1-ubyte.gz\n"
     ]
    }
   ],
   "source": [
    "import numpy as np\n",
    "import pandas as pd\n",
    "import tensorflow as tf\n",
    "import random\n",
    "from tensorflow.examples.tutorials.mnist import input_data\n",
    "import matplotlib.pyplot as plt\n",
    "mnist = input_data.read_data_sets('MNIST_data/',one_hot=True)"
   ]
  },
  {
   "cell_type": "code",
   "execution_count": 4,
   "metadata": {},
   "outputs": [],
   "source": [
    "x_train = mnist.train.images[:,:]\n",
    "y_train = mnist.train.labels[:,:]"
   ]
  },
  {
   "cell_type": "code",
   "execution_count": 5,
   "metadata": {},
   "outputs": [],
   "source": [
    "x_test = mnist.test.images[:,:]\n",
    "y_test = mnist.test.labels[:,:]"
   ]
  },
  {
   "cell_type": "markdown",
   "metadata": {},
   "source": [
    "# 모델 튜닝\n",
    "## sigmoid -> relu\n",
    "## gradientdecent -> adamoptimizer"
   ]
  },
  {
   "cell_type": "code",
   "execution_count": 6,
   "metadata": {},
   "outputs": [
    {
     "name": "stdout",
     "output_type": "stream",
     "text": [
      "WARNING:tensorflow:From <ipython-input-6-f2bda6482cad>:18: softmax_cross_entropy_with_logits (from tensorflow.python.ops.nn_ops) is deprecated and will be removed in a future version.\n",
      "Instructions for updating:\n",
      "\n",
      "Future major versions of TensorFlow will allow gradients to flow\n",
      "into the labels input on backprop by default.\n",
      "\n",
      "See tf.nn.softmax_cross_entropy_with_logits_v2.\n",
      "\n"
     ]
    }
   ],
   "source": [
    "X= tf.placeholder(tf.float32, shape=[None,28*28*1])\n",
    "Y= tf.placeholder(tf.float32, shape=[None,10])\n",
    "\n",
    "\n",
    "W1 = tf.Variable(tf.random_normal([28*28*1,28*28*1]))\n",
    "B1 = tf.Variable(tf.random_normal([28*28*1]))\n",
    "layer1 = tf.nn.relu(tf.matmul(X,W1)+B1)\n",
    "\n",
    "W2 = tf.Variable(tf.random_normal([28*28*1,28*28*1]))\n",
    "B2 = tf.Variable(tf.random_normal([28*28*1]))\n",
    "layer2 = tf.nn.relu(tf.matmul(layer1,W2)+B2)\n",
    "\n",
    "W3 = tf.Variable(tf.random_normal([28*28*1,10]))\n",
    "B3 = tf.Variable(tf.random_normal([10]))\n",
    "\n",
    "logits = tf.matmul(layer2, W3)+B3\n",
    "hypothesis = tf.nn.softmax(logits)\n",
    "cost = tf.reduce_mean(tf.nn.softmax_cross_entropy_with_logits(logits=logits, labels=Y))\n",
    "optimizer = tf.train.AdamOptimizer(learning_rate=0.01).minimize(cost)\n",
    "\n",
    "###정확도\n",
    "prediction = tf.argmax(hypothesis,1)\n",
    "correct_prediction = tf.equal(prediction, tf.argmax(Y,1))\n",
    "accuracy = tf.reduce_mean(tf.cast(correct_prediction, tf.float32))"
   ]
  },
  {
   "cell_type": "markdown",
   "metadata": {},
   "source": [
    "# Epoch 15로 큰맘먹고 train해보겠습니다."
   ]
  },
  {
   "cell_type": "code",
   "execution_count": 7,
   "metadata": {},
   "outputs": [
    {
     "name": "stdout",
     "output_type": "stream",
     "text": [
      "Epoch : 0 Cost 152.67245035437014\n",
      "Epoch : 1 Cost 23.42020920068028\n",
      "Epoch : 2 Cost 13.822456403742788\n",
      "Epoch : 3 Cost 10.525817369157503\n",
      "Epoch : 4 Cost 8.290842077462864\n",
      "Epoch : 5 Cost 7.658724964450447\n",
      "Epoch : 6 Cost 7.352758504009123\n",
      "Epoch : 7 Cost 6.291375079913888\n",
      "Epoch : 8 Cost 5.685362662332691\n",
      "Epoch : 9 Cost 5.440563885794255\n",
      "Epoch : 10 Cost 4.479049311576313\n",
      "Epoch : 11 Cost 4.386675490794166\n",
      "Epoch : 12 Cost 4.23205381603842\n",
      "Epoch : 13 Cost 3.414061441419821\n",
      "Epoch : 14 Cost 3.3377187992568667\n"
     ]
    }
   ],
   "source": [
    "training_epoch = 15\n",
    "batch_size = 100\n",
    "sess = tf.Session()\n",
    "sess.run(tf.global_variables_initializer())\n",
    "for epoch in range(training_epoch):\n",
    "    avg_cost = 0\n",
    "    total_batch = int(mnist.train.num_examples/batch_size) #550\n",
    "    for i in range(total_batch):\n",
    "        batch_xs, batch_ys = mnist.train.next_batch(batch_size)\n",
    "        c, _ = sess.run([cost, optimizer],feed_dict={X:batch_xs,Y:batch_ys})\n",
    "        avg_cost += c/total_batch\n",
    "    print(\"Epoch :\",epoch, 'Cost', avg_cost)"
   ]
  },
  {
   "cell_type": "code",
   "execution_count": 8,
   "metadata": {},
   "outputs": [
    {
     "data": {
      "text/plain": [
       "0.9717"
      ]
     },
     "execution_count": 8,
     "metadata": {},
     "output_type": "execute_result"
    }
   ],
   "source": [
    "result = sess.run(accuracy, feed_dict={X:x_test, Y:y_test})\n",
    "result"
   ]
  },
  {
   "cell_type": "markdown",
   "metadata": {},
   "source": [
    "# 짜잔! 88%에서 97프로로 올랐습니다, 갓루"
   ]
  },
  {
   "cell_type": "code",
   "execution_count": 9,
   "metadata": {},
   "outputs": [
    {
     "name": "stdout",
     "output_type": "stream",
     "text": [
      "Lbael: [3]\n",
      "Lbael: [3]\n"
     ]
    },
    {
     "data": {
      "text/plain": [
       "<matplotlib.image.AxesImage at 0xf7c9e10>"
      ]
     },
     "execution_count": 9,
     "metadata": {},
     "output_type": "execute_result"
    },
    {
     "data": {
      "image/png": "[encoded data removed]",
      "text/plain": [
       "<Figure size 432x288 with 1 Axes>"
      ]
     },
     "metadata": {},
     "output_type": "display_data"
    }
   ],
   "source": [
    "r = random.randint(0,mnist.test.num_examples-1)\n",
    "print('Lbael:', sess.run(tf.argmax(mnist.test.labels[r:r+1],1)))\n",
    "print('Lbael:', sess.run(tf.argmax(hypothesis,1),feed_dict={X:mnist.test.images[r:r+1]}))\n",
    "plt.imshow(\n",
    "mnist.test.images[r:r+1].reshape(28,28),\n",
    "    cmap='Greys',\n",
    "    interpolation = 'nearest')"
   ]
  },
  {
   "cell_type": "code",
   "execution_count": null,
   "metadata": {},
   "outputs": [],
   "source": []
  },
  {
   "cell_type": "code",
   "execution_count": null,
   "metadata": {},
   "outputs": [],
   "source": []
  }
 ],
 "metadata": {
  "kernelspec": {
   "display_name": "Python 3",
   "language": "python",
   "name": "python3"
  },
  "language_info": {
   "codemirror_mode": {
    "name": "ipython",
    "version": 3
   },
   "file_extension": ".py",
   "mimetype": "text/x-python",
   "name": "python",
   "nbconvert_exporter": "python",
   "pygments_lexer": "ipython3",
   "version": "3.6.5"
  }
 },
 "nbformat": 4,
 "nbformat_minor": 2
}
