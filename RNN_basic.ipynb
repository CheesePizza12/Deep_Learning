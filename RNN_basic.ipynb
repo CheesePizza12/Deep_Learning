{
 "cells": [
  {
   "cell_type": "code",
   "execution_count": 5,
   "metadata": {},
   "outputs": [],
   "source": [
    "import numpy as np\n",
    "import pandas as pd\n",
    "import tensorflow as tf"
   ]
  },
  {
   "cell_type": "code",
   "execution_count": 6,
   "metadata": {},
   "outputs": [],
   "source": [
    "# 'hihello' 가르치기\n",
    "# h가 들어갔을때 i가 나오도록\n",
    "# X : 'hihell' Y : 'ihello'\n",
    "idx2char= ['h','i','e','l','o']\n",
    "x_data = [[0,1,0,2,3,3]]\n",
    "y_data = [[1,0,2,3,3,4]]\n",
    "\n",
    "x_one_hot= [[\n",
    "                [1,0,0,0,0],\n",
    "                [0,1,0,0,0],\n",
    "                [1,0,1,0,0],\n",
    "                [0,0,1,1,0],\n",
    "                [1,0,0,1,0]\n",
    "]]"
   ]
  },
  {
   "cell_type": "code",
   "execution_count": 8,
   "metadata": {},
   "outputs": [
    {
     "data": {
      "text/plain": [
       "(1, 5, 5)"
      ]
     },
     "execution_count": 8,
     "metadata": {},
     "output_type": "execute_result"
    }
   ],
   "source": [
    "np.array(x_one_hot).shape"
   ]
  },
  {
   "cell_type": "code",
   "execution_count": 4,
   "metadata": {},
   "outputs": [],
   "source": [
    "# 사용변수\n",
    "\n",
    "input_dim = 5 # input으로 들어가는 분류 차원 -> 자료 항목의 갯수(카테고리, 뉴메릭 상관없이)\n",
    "num_classes = 5 # 몇개로 분류할 것이냐 => 예측할 항목 => Y \n",
    "batch_size = 1 # 전체 자료를 시퀀스별로 총 몇개로 나눌거냐\n",
    "hidden_size = 5 # 내가 정해\n",
    "sequence_length = 6 # 한 단위의 크기\n",
    "learning_rate = 0.1"
   ]
  },
  {
   "cell_type": "code",
   "execution_count": null,
   "metadata": {},
   "outputs": [],
   "source": [
    "X = tf.placeholder(tf.float32, shape=[None, sequence_length, input_dim])\n",
    "Y = tf.placeholder(tf.int32, shape=[None, sequence_length])\n",
    "\n",
    "# cell = tf.contrib.rnn.BasicRNNCell(num_units=hidden_size, state_is_tuple=True)\n",
    "cell = tf.contrib.rnn.BasicLSTMCell(num_units=hidden_size, state_is_tuple=True)\n",
    "# cell = tf.contrib.rnn.GRUCell(num_units=hidden_size, state_is_tuple=True)\n",
    "initial_state = cell.zero_state(batch_size, tf.float32)\n",
    "outputs, _states = tf.nn.dynamic_rnn(cell, X, initial_state=initial_state,\n",
    "                                dtype=tf.float32)\n",
    "X_for_fc = tf.reshape(outputs, [-1,hidden_size])\n",
    "outputs = tf.contrib.layers.fully_connected(\n",
    "        inputs=X_for_fc, num_outputs = num_classes, activation_fn=None)# 레이어가 많을경우 활성함수 쓴다\n",
    "\n",
    "outputs = tf.reshape(outputs, [batch_size, sequence_length, num_classes])\n",
    "\n",
    "weights = tf.ones([batch_size, sequence_length])\n",
    "sequence_loss = tf.contrib.seq2seq.sequence_loss(logits=outputs, targets=Y,\n",
    "                                        weights=weights)\n",
    "#\n",
    "loss = tf.reduce_mean(sequence_loss)\n",
    "train = tf.train.AdamOptimizer(learning_rate=learning_rate).minimize(loss)\n",
    "\n",
    "prediction = tf.argmax(outputs,axis=2)"
   ]
  },
  {
   "cell_type": "code",
   "execution_count": null,
   "metadata": {},
   "outputs": [],
   "source": [
    "sess = tf.Session()\n",
    "sess.run(tf.global_variables_initializer())\n",
    "for step in range(4000):\n",
    "    l,_ = sess.run([loss,train], feed_dict={X:x_one_hot, Y:y_data})\n",
    "    result = sess.run(prediction, feed_dict={X:x_one_hot})\n",
    "    if step % 100 == 0:\n",
    "        print (\"Step:\",step,\"Loss:\",l,\"Prediction:\", result)\n",
    "        result_str = [idx2char[c] for c in np.squeeze(result)]\n",
    "        print (\"Prediction:\",\"\".join(result_str))"
   ]
  }
 ],
 "metadata": {
  "kernelspec": {
   "display_name": "Python 3",
   "language": "python",
   "name": "python3"
  },
  "language_info": {
   "codemirror_mode": {
    "name": "ipython",
    "version": 3
   },
   "file_extension": ".py",
   "mimetype": "text/x-python",
   "name": "python",
   "nbconvert_exporter": "python",
   "pygments_lexer": "ipython3",
   "version": "3.6.5"
  }
 },
 "nbformat": 4,
 "nbformat_minor": 2
}
